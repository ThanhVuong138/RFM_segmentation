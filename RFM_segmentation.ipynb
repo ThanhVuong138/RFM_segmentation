{
 "cells": [
  {
   "cell_type": "code",
   "execution_count": 1,
   "id": "80835627",
   "metadata": {},
   "outputs": [],
   "source": [
    "import pandas as pd\n",
    "df = pd.read_csv('dataset_all_HM.csv')\n",
    "# df is dataset_all.csv\n",
    "\n",
    "df['Frequency']= df['visit_freq_y']\n",
    "df['Monetary'] = df['TTL']\n",
    "df['Recency'] = df['latest_visit_year']-2022\n",
    "\n",
    "# number of bín\n",
    "bin=5\n",
    "\n",
    "# scoring R,F,M\n",
    "df['rRecency'] = pd.qcut(df['Recency'].rank(method='first'), bin, labels = range(1,bin+1),duplicates='raise').astype(str)\n",
    "df['rMonetary'] = pd.qcut(df['Monetary'].rank(method='first'), bin, labels = range(1,bin+1),duplicates='raise').astype(str)\n",
    "df['rFrequency'] = pd.qcut(df['Frequency'].rank(method='first'), bin, labels = range(1,bin+1),duplicates='raise').astype(str)\n",
    "df['RFM']=df['rRecency']+df['rFrequency']+df['rMonetary']\n",
    "\n",
    "customers = {\n",
    "    555: 'Champion', 554: 'Champion', 544: 'Champion', 545: 'Champion', 454: 'Champion', 455: 'Champion', 445: 'Champion',\n",
    "    543: 'Loyal Customer', 444: 'Loyal Customer', 435: 'Loyal Customer', 355: 'Loyal Customer', 354: 'Loyal Customer', 345: 'Loyal Customer', 344: 'Loyal Customer', 335: 'Loyal Customer',\n",
    "    553: 'Potential Loyalist', 551: 'Potential Loyalist', 552: 'Potential Loyalist', 541: 'Potential Loyalist', 542: 'Potential Loyalist', 533: 'Potential Loyalist', 532: 'Potential Loyalist', 531: 'Potential Loyalist', 452: 'Potential Loyalist', 451: 'Potential Loyalist', 442: 'Potential Loyalist', 441: 'Potential Loyalist', 431: 'Potential Loyalist', 453: 'Potential Loyalist', 433: 'Potential Loyalist', 432: 'Potential Loyalist', 423: 'Potential Loyalist', 353: 'Potential Loyalist', 352: 'Potential Loyalist', 351: 'Potential Loyalist', 342: 'Potential Loyalist', 341: 'Potential Loyalist', 333: 'Potential Loyalist', 323: 'Potential Loyalist',\n",
    "    512: 'New Customer', 511: 'New Customer', 422: 'New Customer', 421: 'New Customer', 412: 'New Customer', 411: 'New Customer', 311: 'New Customer',\n",
    "    525: 'Promising', 524: 'Promising', 523: 'Promising', 522: 'Promising', 521: 'Promising', 515: 'Promising', 514: 'Promising', 513: 'Promising', 425: 'Promising', 424: 'Promising', 413: 'Promising', 414: 'Promising', 415: 'Promising', 315: 'Promising', 314: 'Promising', 313: 'Promising',\n",
    "    535: 'Need Attention', 534: 'Need Attention', 443: 'Need Attention', 434: 'Need Attention', 343: 'Need Attention', 334: 'Need Attention', 325: 'Need Attention', 324: 'Need Attention',\n",
    "    155: 'Cannot Lose Them', 154: 'Cannot Lose Them', 144: 'Cannot Lose Them', 214: 'Cannot Lose Them', 215: 'Cannot Lose Them', 115: 'Cannot Lose Them', 114: 'Cannot Lose Them', 113: 'Cannot Lose Them',\n",
    "    331: 'About To Sleep', 321: 'About To Sleep', 312: 'About To Sleep', 221: 'About To Sleep', 213: 'About To Sleep',\n",
    "    255: 'At Risk', 254: 'At Risk', 245: 'At Risk', 244: 'At Risk', 253: 'At Risk', 252: 'At Risk', 243: 'At Risk', 242: 'At Risk', 235: 'At Risk', 234: 'At Risk', 225: 'At Risk', 224: 'At Risk', 153: 'At Risk', 152: 'At Risk', 145: 'At Risk', 143: 'At Risk', 142: 'At Risk', 135: 'At Risk', 134: 'At Risk', 133: 'At Risk', 125: 'At Risk', 124: 'At Risk',\n",
    "    332: 'Hibernating', 322: 'Hibernating', 231: 'Hibernating', 241: 'Hibernating', 251: 'Hibernating', 233: 'Hibernating', 232: 'Hibernating', 223: 'Hibernating', 222: 'Hibernating', 132: 'Hibernating', 123: 'Hibernating', 122: 'Hibernating', 212: 'Hibernating', 211: 'Hibernating',\n",
    "    111: 'Lost', 112: 'Lost', 121: 'Lost', 131: 'Lost', 141: 'Lost', 151: 'Lost'\n",
    "}\n",
    "def classify_customer(customer_number):\n",
    "    if customer_number in customers:\n",
    "        return customers[customer_number]\n",
    "    else:\n",
    "        return 'Unknown'\n",
    "\n",
    "# segmenting\n",
    "df['Segment']=df['RFM'].apply(lambda x:classify_customer(int(x)))"
   ]
  },
  {
   "cell_type": "code",
   "execution_count": 2,
   "id": "796e573c",
   "metadata": {},
   "outputs": [],
   "source": [
    "df.to_csv('RFM_segmentation_2.csv')"
   ]
  },
  {
   "cell_type": "code",
   "execution_count": null,
   "id": "bcf30122",
   "metadata": {},
   "outputs": [],
   "source": []
  }
 ],
 "metadata": {
  "kernelspec": {
   "display_name": "Python 3 (ipykernel)",
   "language": "python",
   "name": "python3"
  },
  "language_info": {
   "codemirror_mode": {
    "name": "ipython",
    "version": 3
   },
   "file_extension": ".py",
   "mimetype": "text/x-python",
   "name": "python",
   "nbconvert_exporter": "python",
   "pygments_lexer": "ipython3",
   "version": "3.9.7"
  }
 },
 "nbformat": 4,
 "nbformat_minor": 5
}
